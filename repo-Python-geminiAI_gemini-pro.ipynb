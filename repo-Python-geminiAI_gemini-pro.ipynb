{
 "cells": [
  {
   "cell_type": "code",
   "execution_count": 1,
   "id": "6ab7e9fe-9e9f-4c44-8ade-4642094240cb",
   "metadata": {},
   "outputs": [
    {
     "name": "stdout",
     "output_type": "stream",
     "text": [
      "Name: google-generativeai\n",
      "Version: 0.3.2\n",
      "Summary: Google Generative AI High level API client library and tools.\n",
      "Home-page: https://github.com/google/generative-ai-python\n",
      "Author: Google LLC\n",
      "Author-email: googleapis-packages@google.com\n",
      "License: Apache 2.0\n",
      "Location: /Library/Frameworks/Python.framework/Versions/3.11/lib/python3.11/site-packages\n",
      "Requires: google-ai-generativelanguage, google-api-core, google-auth, protobuf, tqdm, typing-extensions\n",
      "Required-by: langchain-google-genai\n",
      "Name: langchain-google-genai\n",
      "Version: 0.0.9\n",
      "Summary: An integration package connecting Google's genai package and LangChain\n",
      "Home-page: https://github.com/langchain-ai/langchain\n",
      "Author: \n",
      "Author-email: \n",
      "License: MIT\n",
      "Location: /Library/Frameworks/Python.framework/Versions/3.11/lib/python3.11/site-packages\n",
      "Requires: google-generativeai, langchain-core\n",
      "Required-by: \n",
      "Name: langchain\n",
      "Version: 0.1.10\n",
      "Summary: Building applications with LLMs through composability\n",
      "Home-page: https://github.com/langchain-ai/langchain\n",
      "Author: \n",
      "Author-email: \n",
      "License: MIT\n",
      "Location: /Library/Frameworks/Python.framework/Versions/3.11/lib/python3.11/site-packages\n",
      "Requires: aiohttp, dataclasses-json, jsonpatch, langchain-community, langchain-core, langchain-text-splitters, langsmith, numpy, pydantic, PyYAML, requests, SQLAlchemy, tenacity\n",
      "Required-by: langchain-experimental\n"
     ]
    }
   ],
   "source": [
    "!pip install -q google-generativeai\n",
    "!pip install -q langchain-google-genai\n",
    "!pip install -q langchain\n",
    "!pip show google-generativeai\n",
    "!pip show langchain-google-genai\n",
    "!pip show langchain\n"
   ]
  },
  {
   "cell_type": "code",
   "execution_count": 25,
   "id": "b1f77166-fb32-437f-b530-2cde19a03dac",
   "metadata": {},
   "outputs": [],
   "source": [
    "from git import Repo\n",
    "from langchain_community.document_loaders.generic import GenericLoader\n",
    "from langchain_community.document_loaders.parsers import LanguageParser\n",
    "from langchain_text_splitters import Language"
   ]
  },
  {
   "cell_type": "code",
   "execution_count": 26,
   "id": "4e30cda8-2973-42b5-a6a4-caa54f9079de",
   "metadata": {},
   "outputs": [],
   "source": [
    "# Clone\n",
    "repo_path = \"/Users/swaramenon/Documents/gemai\"\n",
    "repo = Repo.clone_from(\"https://github.com/redapt/pyspark-s3-parquet-example\", to_path=repo_path)"
   ]
  },
  {
   "cell_type": "code",
   "execution_count": 27,
   "id": "f0e25b5b-c750-4a6e-8014-e009480aa0af",
   "metadata": {},
   "outputs": [
    {
     "data": {
      "text/plain": [
       "2"
      ]
     },
     "execution_count": 27,
     "metadata": {},
     "output_type": "execute_result"
    }
   ],
   "source": [
    "# Load\n",
    "loader = GenericLoader.from_filesystem(\n",
    "    repo_path + \"/pyspark-scripts\",\n",
    "    glob=\"**/*\",\n",
    "    suffixes=[\".py\"],\n",
    "    exclude=[\"**/non-utf8-encoding.py\"],\n",
    "    parser=LanguageParser(language=Language.PYTHON, parser_threshold=500),\n",
    ")\n",
    "documents = loader.load()\n",
    "len(documents)"
   ]
  },
  {
   "cell_type": "code",
   "execution_count": 28,
   "id": "7fd3f877-108c-4939-951a-ca7e8b543eca",
   "metadata": {},
   "outputs": [
    {
     "data": {
      "text/plain": [
       "3"
      ]
     },
     "execution_count": 28,
     "metadata": {},
     "output_type": "execute_result"
    }
   ],
   "source": [
    "from langchain_text_splitters import RecursiveCharacterTextSplitter\n",
    "\n",
    "python_splitter = RecursiveCharacterTextSplitter.from_language(\n",
    "    language=Language.PYTHON, chunk_size=2000, chunk_overlap=200\n",
    ")\n",
    "texts = python_splitter.split_documents(documents)\n",
    "len(texts)"
   ]
  },
  {
   "cell_type": "code",
   "execution_count": 30,
   "id": "abce016e-5de7-477b-9142-ceb2a362435a",
   "metadata": {},
   "outputs": [
    {
     "data": {
      "text/plain": [
       "True"
      ]
     },
     "execution_count": 30,
     "metadata": {},
     "output_type": "execute_result"
    }
   ],
   "source": [
    "import dotenv\n",
    "\n",
    "dotenv.load_dotenv()"
   ]
  },
  {
   "cell_type": "code",
   "execution_count": 31,
   "id": "8210f764-86a8-41c8-be8e-1c6485f79dc3",
   "metadata": {},
   "outputs": [],
   "source": [
    "from langchain_chroma import Chroma\n",
    "from langchain_openai import OpenAIEmbeddings\n",
    "\n",
    "db = Chroma.from_documents(texts, OpenAIEmbeddings(disallowed_special=()))\n",
    "retriever = db.as_retriever(\n",
    "    search_type=\"mmr\",  # Also test \"similarity\"\n",
    "    search_kwargs={\"k\": 8},\n",
    ")"
   ]
  },
  {
   "cell_type": "code",
   "execution_count": 34,
   "id": "a40019fa-9aff-47ea-b039-fdeaff049cc3",
   "metadata": {},
   "outputs": [],
   "source": [
    "from langchain.chains import create_history_aware_retriever, create_retrieval_chain\n",
    "from langchain.chains.combine_documents import create_stuff_documents_chain\n",
    "from langchain_core.prompts import ChatPromptTemplate\n",
    "llm= ChatGoogleGenerativeAI(model='gemini-pro', convert_system_message_to_human=True)\n",
    "prompt = ChatPromptTemplate.from_messages(\n",
    "    [\n",
    "        (\"placeholder\", \"{chat_history}\"),\n",
    "        (\"user\", \"{input}\"),\n",
    "        (\n",
    "            \"user\",\n",
    "            \"Given the above conversation, generate a search query to look up to get information relevant to the conversation\",\n",
    "        ),\n",
    "    ]\n",
    ")\n",
    "retriever_chain = create_history_aware_retriever(llm, retriever, prompt)\n",
    "prompt = ChatPromptTemplate.from_messages(\n",
    "    [\n",
    "        (\n",
    "            \"system\",\n",
    "            \"Answer the user's questions based on the below context:\\n\\n{context}\",\n",
    "        ),\n",
    "        (\"placeholder\", \"{chat_history}\"),\n",
    "        (\"user\", \"{input}\"),\n",
    "    ]\n",
    ")\n",
    "document_chain = create_stuff_documents_chain(llm, prompt)\n",
    "\n",
    "qa = create_retrieval_chain(retriever_chain, document_chain)\n"
   ]
  },
  {
   "cell_type": "code",
   "execution_count": 35,
   "id": "14a995a5-3786-463d-9290-a1c0d1d125ef",
   "metadata": {},
   "outputs": [
    {
     "name": "stderr",
     "output_type": "stream",
     "text": [
      "Number of requested results 20 is greater than number of elements in index 3, updating n_results = 3\n"
     ]
    },
    {
     "data": {
      "text/plain": [
       "\"1. **How does the code load the .parquet file into Spark SQL?**\\n   The code uses the `read.parquet` method of the SQLContext to load the .parquet file into a DataFrame. The DataFrame is then registered as a temporary table using the `registerTempTable` method.\\n\\n2. **What SQL query is used to select all rows from the temporary table?**\\n   The SQL query `SELECT * FROM parquetFile` is used to select all rows from the temporary table.\\n\\n3. **What SQL query is used to filter the temporary table for rows where the `name` column contains the string `UNITED`?**\\n   The SQL query `SELECT name FROM parquetFile WHERE name LIKE '%UNITED%'` is used to filter the temporary table for rows where the `name` column contains the string `UNITED`.\""
      ]
     },
     "execution_count": 35,
     "metadata": {},
     "output_type": "execute_result"
    }
   ],
   "source": [
    "question = \"explain the repo\"\n",
    "result = qa.invoke({\"input\": question})\n",
    "result[\"answer\"]"
   ]
  },
  {
   "cell_type": "code",
   "execution_count": 36,
   "id": "04c20ee8-f659-438b-b75e-5dd2150137c3",
   "metadata": {},
   "outputs": [
    {
     "name": "stderr",
     "output_type": "stream",
     "text": [
      "Number of requested results 20 is greater than number of elements in index 3, updating n_results = 3\n"
     ]
    },
    {
     "data": {
      "text/plain": [
       "'The input to the read method is a file path. In this case, the file path is \"s3://jon-parquet-format/nation.plain.parquet\" for the AWS EMR Spark service and \"../test-data/nation.plain.parquet\" for the local instance of Spark.'"
      ]
     },
     "execution_count": 36,
     "metadata": {},
     "output_type": "execute_result"
    }
   ],
   "source": [
    "question = \"what is the input to the read\"\n",
    "result = qa.invoke({\"input\": question})\n",
    "result[\"answer\"]"
   ]
  },
  {
   "cell_type": "code",
   "execution_count": 37,
   "id": "650b2f34-adf8-4ab8-9f5c-8773af1aa48f",
   "metadata": {},
   "outputs": [
    {
     "name": "stderr",
     "output_type": "stream",
     "text": [
      "Number of requested results 20 is greater than number of elements in index 3, updating n_results = 3\n"
     ]
    },
    {
     "data": {
      "text/plain": [
       "\"```\\nSuccessfully imported Spark Modules -- `SparkContext, SQLContext`\\n-------------------------------------------------------------------------------\\nAll Nations and Comments -- `SELECT * FROM parquetFile`\\n-------------------------------------------------------------------------------\\nCountry: REGION 1 Ipsum Comment: Our main region\\nCountry: MIDDLE EAST Ipsum Comment: Our second main region\\nCountry: ASIA Ipsum Comment: Our largest region\\nCountry: EUROPE Ipsum Comment: Our EU region\\nCountry: AFRICA Ipsum Comment: Our African region\\nCountry: UNITED STATES Ipsum Comment: Our home country\\nCountry: CANADA Ipsum Comment: Our subsidiary\\nCountry: UNITED KINGDOM Ipsum Comment: Our UK office\\n-------------------------------------------------------------------------------\\nNations Filtered -- `SELECT name FROM parquetFile WHERE name LIKE '%UNITED%'`\\n-------------------------------------------------------------------------------\\nCountry: UNITED STATES\\nCountry: UNITED KINGDOM\\n```\""
      ]
     },
     "execution_count": 37,
     "metadata": {},
     "output_type": "execute_result"
    }
   ],
   "source": [
    "question = \"what is the output to the write\"\n",
    "result = qa.invoke({\"input\": question})\n",
    "result[\"answer\"]"
   ]
  },
  {
   "cell_type": "code",
   "execution_count": 38,
   "id": "56537b51-a67b-4471-b23a-5f21c0452e12",
   "metadata": {},
   "outputs": [
    {
     "name": "stderr",
     "output_type": "stream",
     "text": [
      "Number of requested results 20 is greater than number of elements in index 3, updating n_results = 3\n"
     ]
    },
    {
     "data": {
      "text/plain": [
       "'Yes, the data is transformed from a parquet file into a DataFrame using the `read.parquet` method. The DataFrame is then converted into a temporary table using the `registerTempTable` method. This allows SQL queries to be run against the data using the `sql` method.'"
      ]
     },
     "execution_count": 38,
     "metadata": {},
     "output_type": "execute_result"
    }
   ],
   "source": [
    "question = \"Is there any data transformation?\"\n",
    "result = qa.invoke({\"input\": question})\n",
    "result[\"answer\"]"
   ]
  },
  {
   "cell_type": "code",
   "execution_count": null,
   "id": "14bb5043-68bb-4c9b-8e59-3f2721b1eb88",
   "metadata": {},
   "outputs": [],
   "source": []
  }
 ],
 "metadata": {
  "kernelspec": {
   "display_name": "Python 3 (ipykernel)",
   "language": "python",
   "name": "python3"
  },
  "language_info": {
   "codemirror_mode": {
    "name": "ipython",
    "version": 3
   },
   "file_extension": ".py",
   "mimetype": "text/x-python",
   "name": "python",
   "nbconvert_exporter": "python",
   "pygments_lexer": "ipython3",
   "version": "3.11.3"
  }
 },
 "nbformat": 4,
 "nbformat_minor": 5
}
