{
 "cells": [
  {
   "cell_type": "code",
   "execution_count": 10,
   "id": "afda0d4e-5889-45c8-9d79-91aabc625f2b",
   "metadata": {},
   "outputs": [
    {
     "name": "stdout",
     "output_type": "stream",
     "text": [
      "Requirement already satisfied: aiohttp==3.8.6 in /Library/Frameworks/Python.framework/Versions/3.11/lib/python3.11/site-packages (from -r requirements-Copy1.txt (line 1)) (3.8.6)\n",
      "Requirement already satisfied: aiosignal==1.3.1 in /Library/Frameworks/Python.framework/Versions/3.11/lib/python3.11/site-packages (from -r requirements-Copy1.txt (line 2)) (1.3.1)\n",
      "Requirement already satisfied: altair==5.1.2 in /Library/Frameworks/Python.framework/Versions/3.11/lib/python3.11/site-packages (from -r requirements-Copy1.txt (line 3)) (5.1.2)\n",
      "Requirement already satisfied: annotated-types==0.6.0 in /Library/Frameworks/Python.framework/Versions/3.11/lib/python3.11/site-packages (from -r requirements-Copy1.txt (line 4)) (0.6.0)\n",
      "Requirement already satisfied: anyio==3.7.1 in /Library/Frameworks/Python.framework/Versions/3.11/lib/python3.11/site-packages (from -r requirements-Copy1.txt (line 5)) (3.7.1)\n",
      "Requirement already satisfied: appnope==0.1.3 in /Library/Frameworks/Python.framework/Versions/3.11/lib/python3.11/site-packages (from -r requirements-Copy1.txt (line 6)) (0.1.3)\n",
      "Requirement already satisfied: argon2-cffi==23.1.0 in /Library/Frameworks/Python.framework/Versions/3.11/lib/python3.11/site-packages (from -r requirements-Copy1.txt (line 7)) (23.1.0)\n",
      "Requirement already satisfied: argon2-cffi-bindings==21.2.0 in /Library/Frameworks/Python.framework/Versions/3.11/lib/python3.11/site-packages (from -r requirements-Copy1.txt (line 8)) (21.2.0)\n",
      "Requirement already satisfied: arrow==1.3.0 in /Library/Frameworks/Python.framework/Versions/3.11/lib/python3.11/site-packages (from -r requirements-Copy1.txt (line 9)) (1.3.0)\n",
      "Requirement already satisfied: asgiref==3.7.2 in /Library/Frameworks/Python.framework/Versions/3.11/lib/python3.11/site-packages (from -r requirements-Copy1.txt (line 10)) (3.7.2)\n",
      "Requirement already satisfied: asttokens==2.4.1 in /Library/Frameworks/Python.framework/Versions/3.11/lib/python3.11/site-packages (from -r requirements-Copy1.txt (line 11)) (2.4.1)\n",
      "Requirement already satisfied: async-lru==2.0.4 in /Library/Frameworks/Python.framework/Versions/3.11/lib/python3.11/site-packages (from -r requirements-Copy1.txt (line 12)) (2.0.4)\n",
      "Requirement already satisfied: async-timeout==4.0.3 in /Library/Frameworks/Python.framework/Versions/3.11/lib/python3.11/site-packages (from -r requirements-Copy1.txt (line 13)) (4.0.3)\n",
      "Requirement already satisfied: attrs==23.1.0 in /Library/Frameworks/Python.framework/Versions/3.11/lib/python3.11/site-packages (from -r requirements-Copy1.txt (line 14)) (23.1.0)\n",
      "Requirement already satisfied: Babel==2.13.1 in /Library/Frameworks/Python.framework/Versions/3.11/lib/python3.11/site-packages (from -r requirements-Copy1.txt (line 15)) (2.13.1)\n",
      "Requirement already satisfied: backoff==2.2.1 in /Library/Frameworks/Python.framework/Versions/3.11/lib/python3.11/site-packages (from -r requirements-Copy1.txt (line 16)) (2.2.1)\n",
      "Requirement already satisfied: bcrypt==4.1.1 in /Library/Frameworks/Python.framework/Versions/3.11/lib/python3.11/site-packages (from -r requirements-Copy1.txt (line 17)) (4.1.1)\n",
      "Requirement already satisfied: beautifulsoup4==4.12.2 in /Library/Frameworks/Python.framework/Versions/3.11/lib/python3.11/site-packages (from -r requirements-Copy1.txt (line 18)) (4.12.2)\n",
      "Requirement already satisfied: bleach==6.1.0 in /Library/Frameworks/Python.framework/Versions/3.11/lib/python3.11/site-packages (from -r requirements-Copy1.txt (line 19)) (6.1.0)\n",
      "Requirement already satisfied: blinker==1.7.0 in /Library/Frameworks/Python.framework/Versions/3.11/lib/python3.11/site-packages (from -r requirements-Copy1.txt (line 20)) (1.7.0)\n",
      "Requirement already satisfied: bs4==0.0.1 in /Library/Frameworks/Python.framework/Versions/3.11/lib/python3.11/site-packages (from -r requirements-Copy1.txt (line 21)) (0.0.1)\n",
      "Requirement already satisfied: cachetools==5.3.2 in /Library/Frameworks/Python.framework/Versions/3.11/lib/python3.11/site-packages (from -r requirements-Copy1.txt (line 22)) (5.3.2)\n",
      "Requirement already satisfied: Cerberus==1.3.5 in /Library/Frameworks/Python.framework/Versions/3.11/lib/python3.11/site-packages (from -r requirements-Copy1.txt (line 23)) (1.3.5)\n",
      "Collecting certifi==2023.7.22 (from -r requirements-Copy1.txt (line 24))\n",
      "  Using cached certifi-2023.7.22-py3-none-any.whl.metadata (2.2 kB)\n",
      "Requirement already satisfied: cffi==1.16.0 in /Library/Frameworks/Python.framework/Versions/3.11/lib/python3.11/site-packages (from -r requirements-Copy1.txt (line 25)) (1.16.0)\n",
      "Requirement already satisfied: charset-normalizer==3.3.2 in /Library/Frameworks/Python.framework/Versions/3.11/lib/python3.11/site-packages (from -r requirements-Copy1.txt (line 26)) (3.3.2)\n",
      "Requirement already satisfied: chroma-hnswlib==0.7.3 in /Library/Frameworks/Python.framework/Versions/3.11/lib/python3.11/site-packages (from -r requirements-Copy1.txt (line 27)) (0.7.3)\n",
      "Requirement already satisfied: chromadb==0.4.18 in /Library/Frameworks/Python.framework/Versions/3.11/lib/python3.11/site-packages (from -r requirements-Copy1.txt (line 28)) (0.4.18)\n",
      "Requirement already satisfied: click==8.1.7 in /Library/Frameworks/Python.framework/Versions/3.11/lib/python3.11/site-packages (from -r requirements-Copy1.txt (line 29)) (8.1.7)\n",
      "Requirement already satisfied: cohere==4.35 in /Library/Frameworks/Python.framework/Versions/3.11/lib/python3.11/site-packages (from -r requirements-Copy1.txt (line 30)) (4.35)\n",
      "Requirement already satisfied: coloredlogs==15.0.1 in /Library/Frameworks/Python.framework/Versions/3.11/lib/python3.11/site-packages (from -r requirements-Copy1.txt (line 31)) (15.0.1)\n",
      "Requirement already satisfied: comm==0.2.0 in /Library/Frameworks/Python.framework/Versions/3.11/lib/python3.11/site-packages (from -r requirements-Copy1.txt (line 32)) (0.2.0)\n",
      "Requirement already satisfied: contourpy==1.2.0 in /Library/Frameworks/Python.framework/Versions/3.11/lib/python3.11/site-packages (from -r requirements-Copy1.txt (line 33)) (1.2.0)\n",
      "Requirement already satisfied: cycler==0.12.1 in /Library/Frameworks/Python.framework/Versions/3.11/lib/python3.11/site-packages (from -r requirements-Copy1.txt (line 34)) (0.12.1)\n",
      "Requirement already satisfied: dataclasses-json==0.6.2 in /Library/Frameworks/Python.framework/Versions/3.11/lib/python3.11/site-packages (from -r requirements-Copy1.txt (line 35)) (0.6.2)\n",
      "Requirement already satisfied: debugpy==1.8.0 in /Library/Frameworks/Python.framework/Versions/3.11/lib/python3.11/site-packages (from -r requirements-Copy1.txt (line 36)) (1.8.0)\n",
      "Requirement already satisfied: decorator==5.1.1 in /Library/Frameworks/Python.framework/Versions/3.11/lib/python3.11/site-packages (from -r requirements-Copy1.txt (line 37)) (5.1.1)\n",
      "Requirement already satisfied: defusedxml==0.7.1 in /Library/Frameworks/Python.framework/Versions/3.11/lib/python3.11/site-packages (from -r requirements-Copy1.txt (line 38)) (0.7.1)\n",
      "Requirement already satisfied: Deprecated==1.2.14 in /Library/Frameworks/Python.framework/Versions/3.11/lib/python3.11/site-packages (from -r requirements-Copy1.txt (line 39)) (1.2.14)\n",
      "Requirement already satisfied: diskcache==5.6.3 in /Library/Frameworks/Python.framework/Versions/3.11/lib/python3.11/site-packages (from -r requirements-Copy1.txt (line 40)) (5.6.3)\n",
      "Requirement already satisfied: distro==1.8.0 in /Library/Frameworks/Python.framework/Versions/3.11/lib/python3.11/site-packages (from -r requirements-Copy1.txt (line 41)) (1.8.0)\n",
      "Requirement already satisfied: entrypoints==0.4 in /Library/Frameworks/Python.framework/Versions/3.11/lib/python3.11/site-packages (from -r requirements-Copy1.txt (line 42)) (0.4)\n",
      "Requirement already satisfied: executing==2.0.1 in /Library/Frameworks/Python.framework/Versions/3.11/lib/python3.11/site-packages (from -r requirements-Copy1.txt (line 43)) (2.0.1)\n",
      "Requirement already satisfied: fastapi==0.104.1 in /Library/Frameworks/Python.framework/Versions/3.11/lib/python3.11/site-packages (from -r requirements-Copy1.txt (line 44)) (0.104.1)\n",
      "Requirement already satisfied: fastavro==1.8.2 in /Library/Frameworks/Python.framework/Versions/3.11/lib/python3.11/site-packages (from -r requirements-Copy1.txt (line 45)) (1.8.2)\n",
      "Requirement already satisfied: fastjsonschema==2.18.1 in /Library/Frameworks/Python.framework/Versions/3.11/lib/python3.11/site-packages (from -r requirements-Copy1.txt (line 46)) (2.18.1)\n",
      "Requirement already satisfied: filelock==3.13.1 in /Library/Frameworks/Python.framework/Versions/3.11/lib/python3.11/site-packages (from -r requirements-Copy1.txt (line 47)) (3.13.1)\n",
      "Requirement already satisfied: flatbuffers==23.5.26 in /Library/Frameworks/Python.framework/Versions/3.11/lib/python3.11/site-packages (from -r requirements-Copy1.txt (line 48)) (23.5.26)\n",
      "Requirement already satisfied: fonttools==4.46.0 in /Library/Frameworks/Python.framework/Versions/3.11/lib/python3.11/site-packages (from -r requirements-Copy1.txt (line 49)) (4.46.0)\n",
      "Requirement already satisfied: fqdn==1.5.1 in /Library/Frameworks/Python.framework/Versions/3.11/lib/python3.11/site-packages (from -r requirements-Copy1.txt (line 50)) (1.5.1)\n",
      "Requirement already satisfied: frozenlist==1.4.0 in /Library/Frameworks/Python.framework/Versions/3.11/lib/python3.11/site-packages (from -r requirements-Copy1.txt (line 51)) (1.4.0)\n",
      "Requirement already satisfied: fsspec==2023.12.0 in /Library/Frameworks/Python.framework/Versions/3.11/lib/python3.11/site-packages (from -r requirements-Copy1.txt (line 52)) (2023.12.0)\n",
      "Requirement already satisfied: gitdb==4.0.11 in /Library/Frameworks/Python.framework/Versions/3.11/lib/python3.11/site-packages (from -r requirements-Copy1.txt (line 53)) (4.0.11)\n",
      "Requirement already satisfied: GitPython==3.1.40 in /Library/Frameworks/Python.framework/Versions/3.11/lib/python3.11/site-packages (from -r requirements-Copy1.txt (line 54)) (3.1.40)\n",
      "Requirement already satisfied: google-auth==2.24.0 in /Library/Frameworks/Python.framework/Versions/3.11/lib/python3.11/site-packages (from -r requirements-Copy1.txt (line 55)) (2.24.0)\n",
      "Requirement already satisfied: googleapis-common-protos==1.61.0 in /Library/Frameworks/Python.framework/Versions/3.11/lib/python3.11/site-packages (from -r requirements-Copy1.txt (line 56)) (1.61.0)\n",
      "Requirement already satisfied: gpt4all==2.0.2 in /Library/Frameworks/Python.framework/Versions/3.11/lib/python3.11/site-packages (from -r requirements-Copy1.txt (line 57)) (2.0.2)\n",
      "Requirement already satisfied: greenlet==3.0.1 in /Library/Frameworks/Python.framework/Versions/3.11/lib/python3.11/site-packages (from -r requirements-Copy1.txt (line 58)) (3.0.1)\n",
      "Requirement already satisfied: grpcio==1.59.3 in /Library/Frameworks/Python.framework/Versions/3.11/lib/python3.11/site-packages (from -r requirements-Copy1.txt (line 59)) (1.59.3)\n",
      "Requirement already satisfied: h11==0.14.0 in /Library/Frameworks/Python.framework/Versions/3.11/lib/python3.11/site-packages (from -r requirements-Copy1.txt (line 60)) (0.14.0)\n",
      "Requirement already satisfied: httpcore==1.0.2 in /Library/Frameworks/Python.framework/Versions/3.11/lib/python3.11/site-packages (from -r requirements-Copy1.txt (line 61)) (1.0.2)\n",
      "Requirement already satisfied: httptools==0.6.1 in /Library/Frameworks/Python.framework/Versions/3.11/lib/python3.11/site-packages (from -r requirements-Copy1.txt (line 62)) (0.6.1)\n",
      "Requirement already satisfied: httpx==0.25.1 in /Library/Frameworks/Python.framework/Versions/3.11/lib/python3.11/site-packages (from -r requirements-Copy1.txt (line 63)) (0.25.1)\n",
      "Requirement already satisfied: huggingface-hub==0.19.4 in /Library/Frameworks/Python.framework/Versions/3.11/lib/python3.11/site-packages (from -r requirements-Copy1.txt (line 64)) (0.19.4)\n",
      "Requirement already satisfied: humanfriendly==10.0 in /Library/Frameworks/Python.framework/Versions/3.11/lib/python3.11/site-packages (from -r requirements-Copy1.txt (line 65)) (10.0)\n",
      "Requirement already satisfied: idna==3.4 in /Library/Frameworks/Python.framework/Versions/3.11/lib/python3.11/site-packages (from -r requirements-Copy1.txt (line 66)) (3.4)\n",
      "Requirement already satisfied: importlib-metadata==6.8.0 in /Library/Frameworks/Python.framework/Versions/3.11/lib/python3.11/site-packages (from -r requirements-Copy1.txt (line 67)) (6.8.0)\n",
      "Requirement already satisfied: importlib-resources==6.1.1 in /Library/Frameworks/Python.framework/Versions/3.11/lib/python3.11/site-packages (from -r requirements-Copy1.txt (line 68)) (6.1.1)\n",
      "Requirement already satisfied: ipykernel==6.26.0 in /Library/Frameworks/Python.framework/Versions/3.11/lib/python3.11/site-packages (from -r requirements-Copy1.txt (line 69)) (6.26.0)\n",
      "Collecting ipython==8.17.2 (from -r requirements-Copy1.txt (line 70))\n",
      "  Using cached ipython-8.17.2-py3-none-any.whl.metadata (6.0 kB)\n",
      "Requirement already satisfied: ipython-genutils==0.2.0 in /Library/Frameworks/Python.framework/Versions/3.11/lib/python3.11/site-packages (from -r requirements-Copy1.txt (line 71)) (0.2.0)\n",
      "Requirement already satisfied: ipywidgets==8.1.1 in /Library/Frameworks/Python.framework/Versions/3.11/lib/python3.11/site-packages (from -r requirements-Copy1.txt (line 72)) (8.1.1)\n",
      "Requirement already satisfied: isoduration==20.11.0 in /Library/Frameworks/Python.framework/Versions/3.11/lib/python3.11/site-packages (from -r requirements-Copy1.txt (line 73)) (20.11.0)\n",
      "Requirement already satisfied: jedi==0.19.1 in /Library/Frameworks/Python.framework/Versions/3.11/lib/python3.11/site-packages (from -r requirements-Copy1.txt (line 74)) (0.19.1)\n",
      "Requirement already satisfied: Jinja2==3.1.2 in /Library/Frameworks/Python.framework/Versions/3.11/lib/python3.11/site-packages (from -r requirements-Copy1.txt (line 75)) (3.1.2)\n",
      "Requirement already satisfied: json5==0.9.14 in /Library/Frameworks/Python.framework/Versions/3.11/lib/python3.11/site-packages (from -r requirements-Copy1.txt (line 76)) (0.9.14)\n",
      "Requirement already satisfied: jsonlines==4.0.0 in /Library/Frameworks/Python.framework/Versions/3.11/lib/python3.11/site-packages (from -r requirements-Copy1.txt (line 77)) (4.0.0)\n",
      "Requirement already satisfied: jsonpatch==1.33 in /Library/Frameworks/Python.framework/Versions/3.11/lib/python3.11/site-packages (from -r requirements-Copy1.txt (line 78)) (1.33)\n",
      "Requirement already satisfied: jsonpointer==2.4 in /Library/Frameworks/Python.framework/Versions/3.11/lib/python3.11/site-packages (from -r requirements-Copy1.txt (line 79)) (2.4)\n",
      "Requirement already satisfied: jsonschema==4.19.2 in /Library/Frameworks/Python.framework/Versions/3.11/lib/python3.11/site-packages (from -r requirements-Copy1.txt (line 80)) (4.19.2)\n",
      "Requirement already satisfied: jsonschema-specifications==2023.7.1 in /Library/Frameworks/Python.framework/Versions/3.11/lib/python3.11/site-packages (from -r requirements-Copy1.txt (line 81)) (2023.7.1)\n",
      "Requirement already satisfied: jupyter-console==6.6.3 in /Library/Frameworks/Python.framework/Versions/3.11/lib/python3.11/site-packages (from -r requirements-Copy1.txt (line 82)) (6.6.3)\n",
      "Requirement already satisfied: jupyter-contrib-core==0.4.2 in /Library/Frameworks/Python.framework/Versions/3.11/lib/python3.11/site-packages (from -r requirements-Copy1.txt (line 83)) (0.4.2)\n",
      "Requirement already satisfied: jupyter-contrib-nbextensions==0.7.0 in /Library/Frameworks/Python.framework/Versions/3.11/lib/python3.11/site-packages (from -r requirements-Copy1.txt (line 84)) (0.7.0)\n",
      "Requirement already satisfied: jupyter-events==0.9.0 in /Library/Frameworks/Python.framework/Versions/3.11/lib/python3.11/site-packages (from -r requirements-Copy1.txt (line 85)) (0.9.0)\n",
      "Requirement already satisfied: jupyter-highlight-selected-word==0.2.0 in /Library/Frameworks/Python.framework/Versions/3.11/lib/python3.11/site-packages (from -r requirements-Copy1.txt (line 86)) (0.2.0)\n",
      "Requirement already satisfied: jupyter-lsp==2.2.0 in /Library/Frameworks/Python.framework/Versions/3.11/lib/python3.11/site-packages (from -r requirements-Copy1.txt (line 87)) (2.2.0)\n",
      "Requirement already satisfied: jupyter-nbextensions-configurator==0.6.3 in /Library/Frameworks/Python.framework/Versions/3.11/lib/python3.11/site-packages (from -r requirements-Copy1.txt (line 88)) (0.6.3)\n",
      "Requirement already satisfied: jupyter_client==8.6.0 in /Library/Frameworks/Python.framework/Versions/3.11/lib/python3.11/site-packages (from -r requirements-Copy1.txt (line 89)) (8.6.0)\n",
      "Requirement already satisfied: jupyter_core==5.5.0 in /Library/Frameworks/Python.framework/Versions/3.11/lib/python3.11/site-packages (from -r requirements-Copy1.txt (line 90)) (5.5.0)\n",
      "Requirement already satisfied: jupyter_server==2.10.0 in /Library/Frameworks/Python.framework/Versions/3.11/lib/python3.11/site-packages (from -r requirements-Copy1.txt (line 91)) (2.10.0)\n",
      "Requirement already satisfied: jupyter_server_terminals==0.4.4 in /Library/Frameworks/Python.framework/Versions/3.11/lib/python3.11/site-packages (from -r requirements-Copy1.txt (line 92)) (0.4.4)\n",
      "Collecting jupyterlab==4.0.8 (from -r requirements-Copy1.txt (line 93))\n",
      "  Using cached jupyterlab-4.0.8-py3-none-any.whl.metadata (15 kB)\n",
      "Requirement already satisfied: jupyterlab-pygments==0.2.2 in /Library/Frameworks/Python.framework/Versions/3.11/lib/python3.11/site-packages (from -r requirements-Copy1.txt (line 94)) (0.2.2)\n",
      "Requirement already satisfied: jupyterlab-widgets==3.0.9 in /Library/Frameworks/Python.framework/Versions/3.11/lib/python3.11/site-packages (from -r requirements-Copy1.txt (line 95)) (3.0.9)\n",
      "Collecting jupyterlab_server==2.25.1 (from -r requirements-Copy1.txt (line 96))\n",
      "  Using cached jupyterlab_server-2.25.1-py3-none-any.whl.metadata (5.9 kB)\n",
      "Requirement already satisfied: jupyterthemes==0.20.0 in /Library/Frameworks/Python.framework/Versions/3.11/lib/python3.11/site-packages (from -r requirements-Copy1.txt (line 97)) (0.20.0)\n",
      "Requirement already satisfied: kiwisolver==1.4.5 in /Library/Frameworks/Python.framework/Versions/3.11/lib/python3.11/site-packages (from -r requirements-Copy1.txt (line 98)) (1.4.5)\n",
      "Requirement already satisfied: kubernetes==28.1.0 in /Library/Frameworks/Python.framework/Versions/3.11/lib/python3.11/site-packages (from -r requirements-Copy1.txt (line 99)) (28.1.0)\n",
      "Requirement already satisfied: langchain-experimental==0.0.40 in /Library/Frameworks/Python.framework/Versions/3.11/lib/python3.11/site-packages (from -r requirements-Copy1.txt (line 100)) (0.0.40)\n",
      "Requirement already satisfied: langsmith==0.1.0 in /Library/Frameworks/Python.framework/Versions/3.11/lib/python3.11/site-packages (from -r requirements-Copy1.txt (line 101)) (0.1.0)\n",
      "Requirement already satisfied: lesscpy==0.15.1 in /Library/Frameworks/Python.framework/Versions/3.11/lib/python3.11/site-packages (from -r requirements-Copy1.txt (line 102)) (0.15.1)\n",
      "Requirement already satisfied: llama_cpp_python==0.2.20 in /Library/Frameworks/Python.framework/Versions/3.11/lib/python3.11/site-packages (from -r requirements-Copy1.txt (line 103)) (0.2.20)\n",
      "Requirement already satisfied: loguru==0.7.2 in /Library/Frameworks/Python.framework/Versions/3.11/lib/python3.11/site-packages (from -r requirements-Copy1.txt (line 104)) (0.7.2)\n",
      "Requirement already satisfied: lxml==4.9.3 in /Library/Frameworks/Python.framework/Versions/3.11/lib/python3.11/site-packages (from -r requirements-Copy1.txt (line 105)) (4.9.3)\n",
      "Requirement already satisfied: markdown-it-py==3.0.0 in /Library/Frameworks/Python.framework/Versions/3.11/lib/python3.11/site-packages (from -r requirements-Copy1.txt (line 106)) (3.0.0)\n",
      "Requirement already satisfied: MarkupSafe==2.1.3 in /Library/Frameworks/Python.framework/Versions/3.11/lib/python3.11/site-packages (from -r requirements-Copy1.txt (line 107)) (2.1.3)\n",
      "Requirement already satisfied: marshmallow==3.20.1 in /Library/Frameworks/Python.framework/Versions/3.11/lib/python3.11/site-packages (from -r requirements-Copy1.txt (line 108)) (3.20.1)\n",
      "Requirement already satisfied: matplotlib==3.8.2 in /Library/Frameworks/Python.framework/Versions/3.11/lib/python3.11/site-packages (from -r requirements-Copy1.txt (line 109)) (3.8.2)\n",
      "Requirement already satisfied: matplotlib-inline==0.1.6 in /Library/Frameworks/Python.framework/Versions/3.11/lib/python3.11/site-packages (from -r requirements-Copy1.txt (line 110)) (0.1.6)\n",
      "Requirement already satisfied: mdurl==0.1.2 in /Library/Frameworks/Python.framework/Versions/3.11/lib/python3.11/site-packages (from -r requirements-Copy1.txt (line 111)) (0.1.2)\n",
      "Collecting mistune==0.8.4 (from -r requirements-Copy1.txt (line 112))\n",
      "  Using cached mistune-0.8.4-py2.py3-none-any.whl.metadata (8.5 kB)\n",
      "Requirement already satisfied: mmh3==4.0.1 in /Library/Frameworks/Python.framework/Versions/3.11/lib/python3.11/site-packages (from -r requirements-Copy1.txt (line 113)) (4.0.1)\n",
      "Requirement already satisfied: monotonic==1.6 in /Library/Frameworks/Python.framework/Versions/3.11/lib/python3.11/site-packages (from -r requirements-Copy1.txt (line 114)) (1.6)\n",
      "Requirement already satisfied: mpmath==1.3.0 in /Library/Frameworks/Python.framework/Versions/3.11/lib/python3.11/site-packages (from -r requirements-Copy1.txt (line 115)) (1.3.0)\n",
      "Requirement already satisfied: multidict==6.0.4 in /Library/Frameworks/Python.framework/Versions/3.11/lib/python3.11/site-packages (from -r requirements-Copy1.txt (line 116)) (6.0.4)\n",
      "Requirement already satisfied: mypy-extensions==1.0.0 in /Library/Frameworks/Python.framework/Versions/3.11/lib/python3.11/site-packages (from -r requirements-Copy1.txt (line 117)) (1.0.0)\n",
      "Requirement already satisfied: nbclient==0.9.0 in /Library/Frameworks/Python.framework/Versions/3.11/lib/python3.11/site-packages (from -r requirements-Copy1.txt (line 118)) (0.9.0)\n",
      "Collecting nbconvert==6.5.4 (from -r requirements-Copy1.txt (line 119))\n",
      "  Using cached nbconvert-6.5.4-py3-none-any.whl.metadata (6.0 kB)\n",
      "Requirement already satisfied: nbformat==5.9.2 in /Library/Frameworks/Python.framework/Versions/3.11/lib/python3.11/site-packages (from -r requirements-Copy1.txt (line 120)) (5.9.2)\n",
      "Requirement already satisfied: nest-asyncio==1.5.8 in /Library/Frameworks/Python.framework/Versions/3.11/lib/python3.11/site-packages (from -r requirements-Copy1.txt (line 121)) (1.5.8)\n",
      "Requirement already satisfied: nomic==2.0.14 in /Library/Frameworks/Python.framework/Versions/3.11/lib/python3.11/site-packages (from -r requirements-Copy1.txt (line 122)) (2.0.14)\n",
      "Requirement already satisfied: notebook==7.0.6 in /Library/Frameworks/Python.framework/Versions/3.11/lib/python3.11/site-packages (from -r requirements-Copy1.txt (line 123)) (7.0.6)\n",
      "Requirement already satisfied: notebook_shim==0.2.3 in /Library/Frameworks/Python.framework/Versions/3.11/lib/python3.11/site-packages (from -r requirements-Copy1.txt (line 124)) (0.2.3)\n",
      "Requirement already satisfied: numpy==1.26.1 in /Library/Frameworks/Python.framework/Versions/3.11/lib/python3.11/site-packages (from -r requirements-Copy1.txt (line 125)) (1.26.1)\n",
      "Requirement already satisfied: oauthlib==3.2.2 in /Library/Frameworks/Python.framework/Versions/3.11/lib/python3.11/site-packages (from -r requirements-Copy1.txt (line 126)) (3.2.2)\n",
      "Requirement already satisfied: onnxruntime==1.16.3 in /Library/Frameworks/Python.framework/Versions/3.11/lib/python3.11/site-packages (from -r requirements-Copy1.txt (line 127)) (1.16.3)\n",
      "Requirement already satisfied: openai==1.24.0 in /Library/Frameworks/Python.framework/Versions/3.11/lib/python3.11/site-packages (from -r requirements-Copy1.txt (line 128)) (1.24.0)\n",
      "Requirement already satisfied: opentelemetry-api==1.21.0 in /Library/Frameworks/Python.framework/Versions/3.11/lib/python3.11/site-packages (from -r requirements-Copy1.txt (line 129)) (1.21.0)\n",
      "Requirement already satisfied: opentelemetry-exporter-otlp-proto-common==1.21.0 in /Library/Frameworks/Python.framework/Versions/3.11/lib/python3.11/site-packages (from -r requirements-Copy1.txt (line 130)) (1.21.0)\n",
      "Requirement already satisfied: opentelemetry-exporter-otlp-proto-grpc==1.21.0 in /Library/Frameworks/Python.framework/Versions/3.11/lib/python3.11/site-packages (from -r requirements-Copy1.txt (line 131)) (1.21.0)\n",
      "Requirement already satisfied: opentelemetry-instrumentation==0.42b0 in /Library/Frameworks/Python.framework/Versions/3.11/lib/python3.11/site-packages (from -r requirements-Copy1.txt (line 132)) (0.42b0)\n",
      "Requirement already satisfied: opentelemetry-instrumentation-asgi==0.42b0 in /Library/Frameworks/Python.framework/Versions/3.11/lib/python3.11/site-packages (from -r requirements-Copy1.txt (line 133)) (0.42b0)\n",
      "Requirement already satisfied: opentelemetry-instrumentation-fastapi==0.42b0 in /Library/Frameworks/Python.framework/Versions/3.11/lib/python3.11/site-packages (from -r requirements-Copy1.txt (line 134)) (0.42b0)\n",
      "Requirement already satisfied: opentelemetry-proto==1.21.0 in /Library/Frameworks/Python.framework/Versions/3.11/lib/python3.11/site-packages (from -r requirements-Copy1.txt (line 135)) (1.21.0)\n",
      "Requirement already satisfied: opentelemetry-sdk==1.21.0 in /Library/Frameworks/Python.framework/Versions/3.11/lib/python3.11/site-packages (from -r requirements-Copy1.txt (line 136)) (1.21.0)\n",
      "Requirement already satisfied: opentelemetry-semantic-conventions==0.42b0 in /Library/Frameworks/Python.framework/Versions/3.11/lib/python3.11/site-packages (from -r requirements-Copy1.txt (line 137)) (0.42b0)\n",
      "Requirement already satisfied: opentelemetry-util-http==0.42b0 in /Library/Frameworks/Python.framework/Versions/3.11/lib/python3.11/site-packages (from -r requirements-Copy1.txt (line 138)) (0.42b0)\n",
      "Requirement already satisfied: overrides==7.4.0 in /Library/Frameworks/Python.framework/Versions/3.11/lib/python3.11/site-packages (from -r requirements-Copy1.txt (line 139)) (7.4.0)\n",
      "Requirement already satisfied: packaging==23.2 in /Library/Frameworks/Python.framework/Versions/3.11/lib/python3.11/site-packages (from -r requirements-Copy1.txt (line 140)) (23.2)\n",
      "Requirement already satisfied: pandas==2.1.2 in /Library/Frameworks/Python.framework/Versions/3.11/lib/python3.11/site-packages (from -r requirements-Copy1.txt (line 141)) (2.1.2)\n",
      "Requirement already satisfied: pandasql==0.7.3 in /Library/Frameworks/Python.framework/Versions/3.11/lib/python3.11/site-packages (from -r requirements-Copy1.txt (line 142)) (0.7.3)\n",
      "Requirement already satisfied: pandocfilters==1.5.0 in /Library/Frameworks/Python.framework/Versions/3.11/lib/python3.11/site-packages (from -r requirements-Copy1.txt (line 143)) (1.5.0)\n",
      "Requirement already satisfied: parso==0.8.3 in /Library/Frameworks/Python.framework/Versions/3.11/lib/python3.11/site-packages (from -r requirements-Copy1.txt (line 144)) (0.8.3)\n",
      "Requirement already satisfied: pexpect==4.8.0 in /Library/Frameworks/Python.framework/Versions/3.11/lib/python3.11/site-packages (from -r requirements-Copy1.txt (line 145)) (4.8.0)\n",
      "Requirement already satisfied: Pillow==10.1.0 in /Library/Frameworks/Python.framework/Versions/3.11/lib/python3.11/site-packages (from -r requirements-Copy1.txt (line 146)) (10.1.0)\n",
      "Requirement already satisfied: platformdirs==3.11.0 in /Library/Frameworks/Python.framework/Versions/3.11/lib/python3.11/site-packages (from -r requirements-Copy1.txt (line 147)) (3.11.0)\n",
      "Requirement already satisfied: ply==3.11 in /Library/Frameworks/Python.framework/Versions/3.11/lib/python3.11/site-packages (from -r requirements-Copy1.txt (line 148)) (3.11)\n",
      "Requirement already satisfied: posthog==3.1.0 in /Library/Frameworks/Python.framework/Versions/3.11/lib/python3.11/site-packages (from -r requirements-Copy1.txt (line 149)) (3.1.0)\n",
      "Requirement already satisfied: pretty-jupyter==2.0.5 in /Library/Frameworks/Python.framework/Versions/3.11/lib/python3.11/site-packages (from -r requirements-Copy1.txt (line 150)) (2.0.5)\n",
      "Requirement already satisfied: prometheus-client==0.18.0 in /Library/Frameworks/Python.framework/Versions/3.11/lib/python3.11/site-packages (from -r requirements-Copy1.txt (line 151)) (0.18.0)\n",
      "Collecting prompt-toolkit==3.0.40 (from -r requirements-Copy1.txt (line 152))\n",
      "  Using cached prompt_toolkit-3.0.40-py3-none-any.whl.metadata (6.5 kB)\n",
      "Requirement already satisfied: protobuf==4.25.0 in /Library/Frameworks/Python.framework/Versions/3.11/lib/python3.11/site-packages (from -r requirements-Copy1.txt (line 153)) (4.25.0)\n",
      "Requirement already satisfied: psutil==5.9.6 in /Library/Frameworks/Python.framework/Versions/3.11/lib/python3.11/site-packages (from -r requirements-Copy1.txt (line 154)) (5.9.6)\n",
      "Requirement already satisfied: ptyprocess==0.7.0 in /Library/Frameworks/Python.framework/Versions/3.11/lib/python3.11/site-packages (from -r requirements-Copy1.txt (line 155)) (0.7.0)\n",
      "Requirement already satisfied: pulsar-client==3.3.0 in /Library/Frameworks/Python.framework/Versions/3.11/lib/python3.11/site-packages (from -r requirements-Copy1.txt (line 156)) (3.3.0)\n",
      "Requirement already satisfied: pure-eval==0.2.2 in /Library/Frameworks/Python.framework/Versions/3.11/lib/python3.11/site-packages (from -r requirements-Copy1.txt (line 157)) (0.2.2)\n",
      "Requirement already satisfied: py4j==0.10.9.7 in /Library/Frameworks/Python.framework/Versions/3.11/lib/python3.11/site-packages (from -r requirements-Copy1.txt (line 158)) (0.10.9.7)\n",
      "Requirement already satisfied: pyarrow==14.0.1 in /Library/Frameworks/Python.framework/Versions/3.11/lib/python3.11/site-packages (from -r requirements-Copy1.txt (line 159)) (14.0.1)\n",
      "Requirement already satisfied: pyasn1==0.5.1 in /Library/Frameworks/Python.framework/Versions/3.11/lib/python3.11/site-packages (from -r requirements-Copy1.txt (line 160)) (0.5.1)\n",
      "Requirement already satisfied: pyasn1-modules==0.3.0 in /Library/Frameworks/Python.framework/Versions/3.11/lib/python3.11/site-packages (from -r requirements-Copy1.txt (line 161)) (0.3.0)\n",
      "Requirement already satisfied: pycparser==2.21 in /Library/Frameworks/Python.framework/Versions/3.11/lib/python3.11/site-packages (from -r requirements-Copy1.txt (line 162)) (2.21)\n",
      "Requirement already satisfied: pydantic==2.4.2 in /Library/Frameworks/Python.framework/Versions/3.11/lib/python3.11/site-packages (from -r requirements-Copy1.txt (line 163)) (2.4.2)\n",
      "Requirement already satisfied: pydantic_core==2.10.1 in /Library/Frameworks/Python.framework/Versions/3.11/lib/python3.11/site-packages (from -r requirements-Copy1.txt (line 164)) (2.10.1)\n",
      "Requirement already satisfied: pydeck==0.8.1b0 in /Library/Frameworks/Python.framework/Versions/3.11/lib/python3.11/site-packages (from -r requirements-Copy1.txt (line 165)) (0.8.1b0)\n",
      "Requirement already satisfied: Pygments==2.16.1 in /Library/Frameworks/Python.framework/Versions/3.11/lib/python3.11/site-packages (from -r requirements-Copy1.txt (line 166)) (2.16.1)\n",
      "Requirement already satisfied: pygpt4all==1.1.0 in /Library/Frameworks/Python.framework/Versions/3.11/lib/python3.11/site-packages (from -r requirements-Copy1.txt (line 167)) (1.1.0)\n",
      "Requirement already satisfied: pygptj==2.0.3 in /Library/Frameworks/Python.framework/Versions/3.11/lib/python3.11/site-packages (from -r requirements-Copy1.txt (line 168)) (2.0.3)\n",
      "Requirement already satisfied: pyllamacpp==2.4.2 in /Library/Frameworks/Python.framework/Versions/3.11/lib/python3.11/site-packages (from -r requirements-Copy1.txt (line 169)) (2.4.2)\n",
      "Requirement already satisfied: pyparsing==3.1.1 in /Library/Frameworks/Python.framework/Versions/3.11/lib/python3.11/site-packages (from -r requirements-Copy1.txt (line 170)) (3.1.1)\n",
      "Requirement already satisfied: PyPika==0.48.9 in /Library/Frameworks/Python.framework/Versions/3.11/lib/python3.11/site-packages (from -r requirements-Copy1.txt (line 171)) (0.48.9)\n",
      "Requirement already satisfied: pyspark==3.5.0 in /Library/Frameworks/Python.framework/Versions/3.11/lib/python3.11/site-packages (from -r requirements-Copy1.txt (line 172)) (3.5.0)\n",
      "Requirement already satisfied: python-dateutil==2.8.2 in /Library/Frameworks/Python.framework/Versions/3.11/lib/python3.11/site-packages (from -r requirements-Copy1.txt (line 173)) (2.8.2)\n",
      "Requirement already satisfied: python-dotenv==1.0.0 in /Library/Frameworks/Python.framework/Versions/3.11/lib/python3.11/site-packages (from -r requirements-Copy1.txt (line 174)) (1.0.0)\n",
      "Requirement already satisfied: python-json-logger==2.0.7 in /Library/Frameworks/Python.framework/Versions/3.11/lib/python3.11/site-packages (from -r requirements-Copy1.txt (line 175)) (2.0.7)\n",
      "Requirement already satisfied: pytz==2023.3.post1 in /Library/Frameworks/Python.framework/Versions/3.11/lib/python3.11/site-packages (from -r requirements-Copy1.txt (line 176)) (2023.3.post1)\n",
      "Requirement already satisfied: PyYAML==6.0.1 in /Library/Frameworks/Python.framework/Versions/3.11/lib/python3.11/site-packages (from -r requirements-Copy1.txt (line 177)) (6.0.1)\n",
      "Requirement already satisfied: pyzmq==25.1.1 in /Library/Frameworks/Python.framework/Versions/3.11/lib/python3.11/site-packages (from -r requirements-Copy1.txt (line 178)) (25.1.1)\n",
      "Requirement already satisfied: qtconsole==5.5.0 in /Library/Frameworks/Python.framework/Versions/3.11/lib/python3.11/site-packages (from -r requirements-Copy1.txt (line 179)) (5.5.0)\n",
      "Requirement already satisfied: QtPy==2.4.1 in /Library/Frameworks/Python.framework/Versions/3.11/lib/python3.11/site-packages (from -r requirements-Copy1.txt (line 180)) (2.4.1)\n",
      "Requirement already satisfied: referencing==0.30.2 in /Library/Frameworks/Python.framework/Versions/3.11/lib/python3.11/site-packages (from -r requirements-Copy1.txt (line 181)) (0.30.2)\n",
      "Requirement already satisfied: regex==2023.10.3 in /Library/Frameworks/Python.framework/Versions/3.11/lib/python3.11/site-packages (from -r requirements-Copy1.txt (line 182)) (2023.10.3)\n",
      "Requirement already satisfied: requests==2.31.0 in /Library/Frameworks/Python.framework/Versions/3.11/lib/python3.11/site-packages (from -r requirements-Copy1.txt (line 183)) (2.31.0)\n",
      "Requirement already satisfied: requests-oauthlib==1.3.1 in /Library/Frameworks/Python.framework/Versions/3.11/lib/python3.11/site-packages (from -r requirements-Copy1.txt (line 184)) (1.3.1)\n",
      "Requirement already satisfied: rfc3339-validator==0.1.4 in /Library/Frameworks/Python.framework/Versions/3.11/lib/python3.11/site-packages (from -r requirements-Copy1.txt (line 185)) (0.1.4)\n",
      "Requirement already satisfied: rfc3986-validator==0.1.1 in /Library/Frameworks/Python.framework/Versions/3.11/lib/python3.11/site-packages (from -r requirements-Copy1.txt (line 186)) (0.1.1)\n",
      "Requirement already satisfied: rich==13.6.0 in /Library/Frameworks/Python.framework/Versions/3.11/lib/python3.11/site-packages (from -r requirements-Copy1.txt (line 187)) (13.6.0)\n",
      "Requirement already satisfied: rpds-py==0.12.0 in /Library/Frameworks/Python.framework/Versions/3.11/lib/python3.11/site-packages (from -r requirements-Copy1.txt (line 188)) (0.12.0)\n",
      "Requirement already satisfied: rsa==4.9 in /Library/Frameworks/Python.framework/Versions/3.11/lib/python3.11/site-packages (from -r requirements-Copy1.txt (line 189)) (4.9)\n",
      "Requirement already satisfied: Send2Trash==1.8.2 in /Library/Frameworks/Python.framework/Versions/3.11/lib/python3.11/site-packages (from -r requirements-Copy1.txt (line 190)) (1.8.2)\n",
      "Requirement already satisfied: six==1.16.0 in /Library/Frameworks/Python.framework/Versions/3.11/lib/python3.11/site-packages (from -r requirements-Copy1.txt (line 191)) (1.16.0)\n",
      "Requirement already satisfied: smmap==5.0.1 in /Library/Frameworks/Python.framework/Versions/3.11/lib/python3.11/site-packages (from -r requirements-Copy1.txt (line 192)) (5.0.1)\n",
      "Requirement already satisfied: sniffio==1.3.0 in /Library/Frameworks/Python.framework/Versions/3.11/lib/python3.11/site-packages (from -r requirements-Copy1.txt (line 193)) (1.3.0)\n",
      "Requirement already satisfied: soupsieve==2.5 in /Library/Frameworks/Python.framework/Versions/3.11/lib/python3.11/site-packages (from -r requirements-Copy1.txt (line 194)) (2.5)\n",
      "Requirement already satisfied: SQLAlchemy==2.0.23 in /Library/Frameworks/Python.framework/Versions/3.11/lib/python3.11/site-packages (from -r requirements-Copy1.txt (line 195)) (2.0.23)\n",
      "Requirement already satisfied: stack-data==0.6.3 in /Library/Frameworks/Python.framework/Versions/3.11/lib/python3.11/site-packages (from -r requirements-Copy1.txt (line 196)) (0.6.3)\n",
      "Requirement already satisfied: starlette==0.27.0 in /Library/Frameworks/Python.framework/Versions/3.11/lib/python3.11/site-packages (from -r requirements-Copy1.txt (line 197)) (0.27.0)\n",
      "Requirement already satisfied: streamlit==1.28.1 in /Library/Frameworks/Python.framework/Versions/3.11/lib/python3.11/site-packages (from -r requirements-Copy1.txt (line 198)) (1.28.1)\n",
      "Requirement already satisfied: sympy==1.12 in /Library/Frameworks/Python.framework/Versions/3.11/lib/python3.11/site-packages (from -r requirements-Copy1.txt (line 199)) (1.12)\n",
      "Requirement already satisfied: tenacity==8.2.3 in /Library/Frameworks/Python.framework/Versions/3.11/lib/python3.11/site-packages (from -r requirements-Copy1.txt (line 200)) (8.2.3)\n",
      "Requirement already satisfied: terminado==0.18.0 in /Library/Frameworks/Python.framework/Versions/3.11/lib/python3.11/site-packages (from -r requirements-Copy1.txt (line 201)) (0.18.0)\n",
      "Requirement already satisfied: tiktoken==0.5.2 in /Library/Frameworks/Python.framework/Versions/3.11/lib/python3.11/site-packages (from -r requirements-Copy1.txt (line 202)) (0.5.2)\n",
      "Requirement already satisfied: tinycss2==1.2.1 in /Library/Frameworks/Python.framework/Versions/3.11/lib/python3.11/site-packages (from -r requirements-Copy1.txt (line 203)) (1.2.1)\n",
      "Requirement already satisfied: tokenizers==0.15.0 in /Library/Frameworks/Python.framework/Versions/3.11/lib/python3.11/site-packages (from -r requirements-Copy1.txt (line 204)) (0.15.0)\n",
      "Requirement already satisfied: toml==0.10.2 in /Library/Frameworks/Python.framework/Versions/3.11/lib/python3.11/site-packages (from -r requirements-Copy1.txt (line 205)) (0.10.2)\n",
      "Requirement already satisfied: tomli==2.0.1 in /Library/Frameworks/Python.framework/Versions/3.11/lib/python3.11/site-packages (from -r requirements-Copy1.txt (line 206)) (2.0.1)\n",
      "Requirement already satisfied: toolz==0.12.0 in /Library/Frameworks/Python.framework/Versions/3.11/lib/python3.11/site-packages (from -r requirements-Copy1.txt (line 207)) (0.12.0)\n",
      "Requirement already satisfied: tornado==6.3.3 in /Library/Frameworks/Python.framework/Versions/3.11/lib/python3.11/site-packages (from -r requirements-Copy1.txt (line 208)) (6.3.3)\n",
      "Requirement already satisfied: tqdm==4.66.1 in /Library/Frameworks/Python.framework/Versions/3.11/lib/python3.11/site-packages (from -r requirements-Copy1.txt (line 209)) (4.66.1)\n",
      "Requirement already satisfied: traitlets==5.13.0 in /Library/Frameworks/Python.framework/Versions/3.11/lib/python3.11/site-packages (from -r requirements-Copy1.txt (line 210)) (5.13.0)\n",
      "Requirement already satisfied: typer==0.9.0 in /Library/Frameworks/Python.framework/Versions/3.11/lib/python3.11/site-packages (from -r requirements-Copy1.txt (line 211)) (0.9.0)\n",
      "Requirement already satisfied: types-python-dateutil==2.8.19.14 in /Library/Frameworks/Python.framework/Versions/3.11/lib/python3.11/site-packages (from -r requirements-Copy1.txt (line 212)) (2.8.19.14)\n",
      "Requirement already satisfied: typing-inspect==0.9.0 in /Library/Frameworks/Python.framework/Versions/3.11/lib/python3.11/site-packages (from -r requirements-Copy1.txt (line 213)) (0.9.0)\n",
      "Requirement already satisfied: typing_extensions==4.8.0 in /Library/Frameworks/Python.framework/Versions/3.11/lib/python3.11/site-packages (from -r requirements-Copy1.txt (line 214)) (4.8.0)\n",
      "Requirement already satisfied: tzdata==2023.3 in /Library/Frameworks/Python.framework/Versions/3.11/lib/python3.11/site-packages (from -r requirements-Copy1.txt (line 215)) (2023.3)\n",
      "Requirement already satisfied: tzlocal==5.2 in /Library/Frameworks/Python.framework/Versions/3.11/lib/python3.11/site-packages (from -r requirements-Copy1.txt (line 216)) (5.2)\n",
      "Requirement already satisfied: uri-template==1.3.0 in /Library/Frameworks/Python.framework/Versions/3.11/lib/python3.11/site-packages (from -r requirements-Copy1.txt (line 217)) (1.3.0)\n",
      "Requirement already satisfied: urllib3==1.26.18 in /Library/Frameworks/Python.framework/Versions/3.11/lib/python3.11/site-packages (from -r requirements-Copy1.txt (line 218)) (1.26.18)\n",
      "Requirement already satisfied: uvicorn==0.24.0.post1 in /Library/Frameworks/Python.framework/Versions/3.11/lib/python3.11/site-packages (from -r requirements-Copy1.txt (line 219)) (0.24.0.post1)\n",
      "Requirement already satisfied: uvloop==0.19.0 in /Library/Frameworks/Python.framework/Versions/3.11/lib/python3.11/site-packages (from -r requirements-Copy1.txt (line 220)) (0.19.0)\n",
      "Requirement already satisfied: validators==0.22.0 in /Library/Frameworks/Python.framework/Versions/3.11/lib/python3.11/site-packages (from -r requirements-Copy1.txt (line 221)) (0.22.0)\n",
      "Requirement already satisfied: watchdog==3.0.0 in /Library/Frameworks/Python.framework/Versions/3.11/lib/python3.11/site-packages (from -r requirements-Copy1.txt (line 222)) (3.0.0)\n",
      "Requirement already satisfied: watchfiles==0.21.0 in /Library/Frameworks/Python.framework/Versions/3.11/lib/python3.11/site-packages (from -r requirements-Copy1.txt (line 223)) (0.21.0)\n",
      "Requirement already satisfied: wcwidth==0.2.9 in /Library/Frameworks/Python.framework/Versions/3.11/lib/python3.11/site-packages (from -r requirements-Copy1.txt (line 224)) (0.2.9)\n",
      "Requirement already satisfied: webcolors==1.13 in /Library/Frameworks/Python.framework/Versions/3.11/lib/python3.11/site-packages (from -r requirements-Copy1.txt (line 225)) (1.13)\n",
      "Requirement already satisfied: webencodings==0.5.1 in /Library/Frameworks/Python.framework/Versions/3.11/lib/python3.11/site-packages (from -r requirements-Copy1.txt (line 226)) (0.5.1)\n",
      "Requirement already satisfied: websocket-client==1.6.4 in /Library/Frameworks/Python.framework/Versions/3.11/lib/python3.11/site-packages (from -r requirements-Copy1.txt (line 227)) (1.6.4)\n",
      "Requirement already satisfied: websockets==12.0 in /Library/Frameworks/Python.framework/Versions/3.11/lib/python3.11/site-packages (from -r requirements-Copy1.txt (line 228)) (12.0)\n",
      "Requirement already satisfied: widgetsnbextension==4.0.9 in /Library/Frameworks/Python.framework/Versions/3.11/lib/python3.11/site-packages (from -r requirements-Copy1.txt (line 229)) (4.0.9)\n",
      "Requirement already satisfied: wonderwords==2.2.0 in /Library/Frameworks/Python.framework/Versions/3.11/lib/python3.11/site-packages (from -r requirements-Copy1.txt (line 230)) (2.2.0)\n",
      "Requirement already satisfied: wrapt==1.16.0 in /Library/Frameworks/Python.framework/Versions/3.11/lib/python3.11/site-packages (from -r requirements-Copy1.txt (line 231)) (1.16.0)\n",
      "Requirement already satisfied: yapf==0.40.2 in /Library/Frameworks/Python.framework/Versions/3.11/lib/python3.11/site-packages (from -r requirements-Copy1.txt (line 232)) (0.40.2)\n",
      "Requirement already satisfied: yarl==1.9.2 in /Library/Frameworks/Python.framework/Versions/3.11/lib/python3.11/site-packages (from -r requirements-Copy1.txt (line 233)) (1.9.2)\n",
      "Requirement already satisfied: zipp==3.17.0 in /Library/Frameworks/Python.framework/Versions/3.11/lib/python3.11/site-packages (from -r requirements-Copy1.txt (line 234)) (3.17.0)\n",
      "Requirement already satisfied: langchain_community in /Library/Frameworks/Python.framework/Versions/3.11/lib/python3.11/site-packages (from -r requirements-Copy1.txt (line 235)) (0.0.38)\n",
      "Requirement already satisfied: langchain_chroma in /Library/Frameworks/Python.framework/Versions/3.11/lib/python3.11/site-packages (from -r requirements-Copy1.txt (line 236)) (0.1.1)\n",
      "Requirement already satisfied: langchain_openai in /Library/Frameworks/Python.framework/Versions/3.11/lib/python3.11/site-packages (from -r requirements-Copy1.txt (line 237)) (0.1.6)\n",
      "Requirement already satisfied: langchain_google_genai==0.0.9 in /Library/Frameworks/Python.framework/Versions/3.11/lib/python3.11/site-packages (from -r requirements-Copy1.txt (line 238)) (0.0.9)\n",
      "Requirement already satisfied: google-generativeai==0.3.2 in /Library/Frameworks/Python.framework/Versions/3.11/lib/python3.11/site-packages (from -r requirements-Copy1.txt (line 239)) (0.3.2)\n",
      "Requirement already satisfied: langchain==0.1.10 in /Library/Frameworks/Python.framework/Versions/3.11/lib/python3.11/site-packages (from -r requirements-Copy1.txt (line 240)) (0.1.10)\n",
      "Requirement already satisfied: setuptools in /Library/Frameworks/Python.framework/Versions/3.11/lib/python3.11/site-packages (from jupyter-contrib-core==0.4.2->-r requirements-Copy1.txt (line 83)) (69.5.1)\n",
      "Requirement already satisfied: langchain-core<0.2,>=0.1 in /Library/Frameworks/Python.framework/Versions/3.11/lib/python3.11/site-packages (from langchain_google_genai==0.0.9->-r requirements-Copy1.txt (line 238)) (0.1.52)\n",
      "Requirement already satisfied: google-ai-generativelanguage==0.4.0 in /Library/Frameworks/Python.framework/Versions/3.11/lib/python3.11/site-packages (from google-generativeai==0.3.2->-r requirements-Copy1.txt (line 239)) (0.4.0)\n",
      "Requirement already satisfied: google-api-core in /Library/Frameworks/Python.framework/Versions/3.11/lib/python3.11/site-packages (from google-generativeai==0.3.2->-r requirements-Copy1.txt (line 239)) (2.19.0)\n",
      "Requirement already satisfied: langchain-text-splitters<0.1,>=0.0.1 in /Library/Frameworks/Python.framework/Versions/3.11/lib/python3.11/site-packages (from langchain==0.1.10->-r requirements-Copy1.txt (line 240)) (0.0.2)\n",
      "Requirement already satisfied: proto-plus<2.0.0dev,>=1.22.3 in /Library/Frameworks/Python.framework/Versions/3.11/lib/python3.11/site-packages (from google-ai-generativelanguage==0.4.0->google-generativeai==0.3.2->-r requirements-Copy1.txt (line 239)) (1.23.0)\n",
      "Requirement already satisfied: grpcio-status<2.0.dev0,>=1.33.2 in /Library/Frameworks/Python.framework/Versions/3.11/lib/python3.11/site-packages (from google-api-core[grpc]!=2.0.*,!=2.1.*,!=2.10.*,!=2.2.*,!=2.3.*,!=2.4.*,!=2.5.*,!=2.6.*,!=2.7.*,!=2.8.*,!=2.9.*,<3.0.0dev,>=1.34.0->google-ai-generativelanguage==0.4.0->google-generativeai==0.3.2->-r requirements-Copy1.txt (line 239)) (1.59.3)\n",
      "Using cached certifi-2023.7.22-py3-none-any.whl (158 kB)\n",
      "Using cached ipython-8.17.2-py3-none-any.whl (808 kB)\n",
      "Using cached jupyterlab-4.0.8-py3-none-any.whl (9.2 MB)\n",
      "Using cached jupyterlab_server-2.25.1-py3-none-any.whl (58 kB)\n",
      "Using cached mistune-0.8.4-py2.py3-none-any.whl (16 kB)\n",
      "Using cached nbconvert-6.5.4-py3-none-any.whl (563 kB)\n",
      "Using cached prompt_toolkit-3.0.40-py3-none-any.whl (385 kB)\n",
      "Installing collected packages: mistune, prompt-toolkit, certifi, ipython, nbconvert, jupyterlab_server, jupyterlab\n",
      "  Attempting uninstall: mistune\n",
      "    Found existing installation: mistune 3.0.2\n",
      "    Uninstalling mistune-3.0.2:\n",
      "      Successfully uninstalled mistune-3.0.2\n",
      "  Attempting uninstall: prompt-toolkit\n",
      "    Found existing installation: prompt-toolkit 3.0.43\n",
      "    Uninstalling prompt-toolkit-3.0.43:\n",
      "      Successfully uninstalled prompt-toolkit-3.0.43\n",
      "  Attempting uninstall: certifi\n",
      "    Found existing installation: certifi 2024.2.2\n",
      "    Uninstalling certifi-2024.2.2:\n",
      "      Successfully uninstalled certifi-2024.2.2\n",
      "  Attempting uninstall: ipython\n",
      "    Found existing installation: ipython 8.24.0\n",
      "    Uninstalling ipython-8.24.0:\n",
      "      Successfully uninstalled ipython-8.24.0\n",
      "  Attempting uninstall: nbconvert\n",
      "    Found existing installation: nbconvert 7.16.4\n",
      "    Uninstalling nbconvert-7.16.4:\n",
      "      Successfully uninstalled nbconvert-7.16.4\n",
      "  Attempting uninstall: jupyterlab_server\n",
      "    Found existing installation: jupyterlab_server 2.27.1\n",
      "    Uninstalling jupyterlab_server-2.27.1:\n",
      "      Successfully uninstalled jupyterlab_server-2.27.1\n",
      "  Attempting uninstall: jupyterlab\n",
      "    Found existing installation: jupyterlab 4.2.0\n",
      "    Uninstalling jupyterlab-4.2.0:\n",
      "      Successfully uninstalled jupyterlab-4.2.0\n",
      "Successfully installed certifi-2023.7.22 ipython-8.17.2 jupyterlab-4.0.8 jupyterlab_server-2.25.1 mistune-0.8.4 nbconvert-6.5.4 prompt-toolkit-3.0.40\n",
      "Note: you may need to restart the kernel to use updated packages.\n"
     ]
    }
   ],
   "source": [
    "pip install -r requirements-Copy1.txt"
   ]
  },
  {
   "cell_type": "code",
   "execution_count": 20,
   "id": "7e9f738d-eacb-4165-9d94-d4cef6391653",
   "metadata": {},
   "outputs": [
    {
     "data": {
      "text/plain": [
       "True"
      ]
     },
     "execution_count": 20,
     "metadata": {},
     "output_type": "execute_result"
    }
   ],
   "source": [
    "import dotenv\n",
    "dotenv.load_dotenv()\n"
   ]
  },
  {
   "cell_type": "code",
   "execution_count": 2,
   "id": "f38fee6a-2c5b-4a06-b723-d81abfd1dd13",
   "metadata": {},
   "outputs": [],
   "source": [
    "from git import Repo\n",
    "from langchain_community.document_loaders.generic import GenericLoader\n",
    "from langchain_community.document_loaders.parsers import LanguageParser\n",
    "from langchain_text_splitters import Language"
   ]
  },
  {
   "cell_type": "code",
   "execution_count": 6,
   "id": "1672fb37-62f7-4509-adfa-c52cb76d0e3c",
   "metadata": {},
   "outputs": [],
   "source": [
    "# Clone\n",
    "repo_path = \"/Users/swaramenon/Documents/llama\"\n",
    "repo = Repo.clone_from(\"https://github.com/redapt/pyspark-s3-parquet-example\", to_path=repo_path)"
   ]
  },
  {
   "cell_type": "code",
   "execution_count": 7,
   "id": "e6768a62-e7c0-4660-b672-60b4624c07fc",
   "metadata": {},
   "outputs": [
    {
     "data": {
      "text/plain": [
       "2"
      ]
     },
     "execution_count": 7,
     "metadata": {},
     "output_type": "execute_result"
    }
   ],
   "source": [
    "# Load\n",
    "loader = GenericLoader.from_filesystem(\n",
    "    repo_path + \"/pyspark-scripts\",\n",
    "    glob=\"**/*\",\n",
    "    suffixes=[\".py\"],\n",
    "    exclude=[\"**/non-utf8-encoding.py\"],\n",
    "    parser=LanguageParser(language=Language.PYTHON, parser_threshold=500),\n",
    ")\n",
    "documents = loader.load()\n",
    "len(documents)"
   ]
  },
  {
   "cell_type": "code",
   "execution_count": 8,
   "id": "7388ad58-cff9-4dbb-a016-751787f6e231",
   "metadata": {},
   "outputs": [
    {
     "data": {
      "text/plain": [
       "3"
      ]
     },
     "execution_count": 8,
     "metadata": {},
     "output_type": "execute_result"
    }
   ],
   "source": [
    "from langchain_text_splitters import RecursiveCharacterTextSplitter\n",
    "\n",
    "python_splitter = RecursiveCharacterTextSplitter.from_language(\n",
    "    language=Language.PYTHON, chunk_size=2000, chunk_overlap=200\n",
    ")\n",
    "texts = python_splitter.split_documents(documents)\n",
    "len(texts)"
   ]
  },
  {
   "cell_type": "code",
   "execution_count": 9,
   "id": "36dfef86-fc92-4eac-88af-38ca2f5261da",
   "metadata": {},
   "outputs": [],
   "source": [
    "from langchain_chroma import Chroma\n",
    "from langchain_openai import OpenAIEmbeddings\n",
    "\n",
    "db = Chroma.from_documents(texts, OpenAIEmbeddings(disallowed_special=()))\n",
    "retriever = db.as_retriever(\n",
    "    search_type=\"mmr\",  # Also test \"similarity\"\n",
    "    search_kwargs={\"k\": 8},\n",
    ")"
   ]
  },
  {
   "cell_type": "code",
   "execution_count": 14,
   "id": "dd9143b5-9809-4480-9759-7e7b73d0e3d7",
   "metadata": {},
   "outputs": [],
   "source": [
    "from langchain.chains import create_history_aware_retriever, create_retrieval_chain\n",
    "from langchain.chains.combine_documents import create_stuff_documents_chain\n",
    "from llama_index.core import ChatPromptTemplate\n",
    "from langchain.chains import LLMChain\n",
    "from langchain_community.chat_models import ChatOllama\n",
    "from langchain.schema.runnable import RunnablePassthrough\n",
    "from langchain.prompts import PromptTemplate  # instructions to guide LLM\n",
    "from langchain.chat_models import ChatOpenAI # LLM model\n",
    "from langchain.schema import StrOutputParser\n",
    "\n",
    "# llm = ChatOllama(model=\"llama3\", temperature=0)\n",
    "llm = ChatOllama(model=\"llama3:instruct\", temperature=0)\n",
    "\n",
    "template = \"\"\"Use the following pieces of context to answer the question at the end.\n",
    "If you don't know the answer, just say that you don't know, don't try to make up an answer.\n",
    "Use three sentences maximum and keep the answer as concise as possible.\n",
    "Always say \"thanks for asking!\" at the end of the answer.\n",
    "{context}\n",
    "Question: {question}\n",
    "Helpful Answer:\"\"\"\n",
    "doc_prompt_custom = PromptTemplate.from_template(template)\n",
    "\n",
    "doc_chain = (\n",
    "    {\"context\": retriever, \"question\": RunnablePassthrough()}\n",
    "    | doc_prompt_custom\n",
    "    | llm\n",
    "    | StrOutputParser()\n",
    ")"
   ]
  },
  {
   "cell_type": "code",
   "execution_count": 16,
   "id": "0faf8547-a008-4749-93fe-e2b5259dba61",
   "metadata": {},
   "outputs": [
    {
     "name": "stderr",
     "output_type": "stream",
     "text": [
      "Number of requested results 20 is greater than number of elements in index 3, updating n_results = 3\n"
     ]
    },
    {
     "data": {
      "text/plain": [
       "'The repository appears to be a collection of Python scripts that demonstrate how to use PySpark, a Python API for Apache Spark, to load and query Parquet-formatted files. The scripts are designed to run on both AWS EMR (a cloud-based Hadoop environment) and locally.\\n\\nThe scripts import the necessary modules, including `pyspark` and `SQLContext`, and then use these modules to read in a Parquet file, register it as an in-memory temporary table, and execute SQL queries against that table. The results of these queries are then printed out.\\n\\nOne script is configured to run on AWS EMR and pulls the Parquet file from S3, while the other script is designed to run locally and loads the Parquet file from the local file system.\\n\\nThanks for asking!'"
      ]
     },
     "execution_count": 16,
     "metadata": {},
     "output_type": "execute_result"
    }
   ],
   "source": [
    "doc_chain.invoke(\"Explain the repo\")"
   ]
  },
  {
   "cell_type": "code",
   "execution_count": 17,
   "id": "d7c3fc28-860a-410f-8b76-7f66f9a4b9b1",
   "metadata": {},
   "outputs": [
    {
     "name": "stderr",
     "output_type": "stream",
     "text": [
      "Number of requested results 20 is greater than number of elements in index 3, updating n_results = 3\n"
     ]
    },
    {
     "data": {
      "text/plain": [
       "'The input to the `read.parquet` method in this script is a string that specifies the location of the .parquet file. In the AWS EMR version, it\\'s \"s3://jon-parquet-format/nation.plain.parquet\", and in the local version, it\\'s \\'../test-data/nation.plain.parquet\\'. Thanks for asking!'"
      ]
     },
     "execution_count": 17,
     "metadata": {},
     "output_type": "execute_result"
    }
   ],
   "source": [
    "doc_chain.invoke(\"What is the input to the read?\")"
   ]
  },
  {
   "cell_type": "code",
   "execution_count": 18,
   "id": "c239de67-57ba-48ce-9600-6ca0132d993b",
   "metadata": {},
   "outputs": [
    {
     "name": "stderr",
     "output_type": "stream",
     "text": [
      "Number of requested results 20 is greater than number of elements in index 3, updating n_results = 3\n"
     ]
    },
    {
     "data": {
      "text/plain": [
       "\"I don't know. The provided code snippets are Python scripts that use PySpark to load a Parquet file and run SQL queries against it, but they do not specify what the output should be or how it should be written.\""
      ]
     },
     "execution_count": 18,
     "metadata": {},
     "output_type": "execute_result"
    }
   ],
   "source": [
    "doc_chain.invoke(\"What is the output to the write?\")"
   ]
  },
  {
   "cell_type": "code",
   "execution_count": 19,
   "id": "0cd46f54-73ef-4e74-8b87-1f9f316ec027",
   "metadata": {},
   "outputs": [
    {
     "name": "stderr",
     "output_type": "stream",
     "text": [
      "Number of requested results 20 is greater than number of elements in index 3, updating n_results = 3\n"
     ]
    },
    {
     "data": {
      "text/plain": [
       "'No, there is no explicit data transformation in the provided code. The script loads a Parquet file into an RDD DataFrame and then runs SQL queries against it without modifying the data. Thanks for asking!'"
      ]
     },
     "execution_count": 19,
     "metadata": {},
     "output_type": "execute_result"
    }
   ],
   "source": [
    "doc_chain.invoke(\"Is there any data transformation?\")"
   ]
  },
  {
   "cell_type": "code",
   "execution_count": null,
   "id": "69dde26e-5da9-4ce6-9ae9-cc214a5885ee",
   "metadata": {},
   "outputs": [],
   "source": []
  }
 ],
 "metadata": {
  "kernelspec": {
   "display_name": "Python 3 (ipykernel)",
   "language": "python",
   "name": "python3"
  },
  "language_info": {
   "codemirror_mode": {
    "name": "ipython",
    "version": 3
   },
   "file_extension": ".py",
   "mimetype": "text/x-python",
   "name": "python",
   "nbconvert_exporter": "python",
   "pygments_lexer": "ipython3",
   "version": "3.11.3"
  }
 },
 "nbformat": 4,
 "nbformat_minor": 5
}
